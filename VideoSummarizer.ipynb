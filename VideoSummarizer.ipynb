{
  "nbformat": 4,
  "nbformat_minor": 0,
  "metadata": {
    "colab": {
      "provenance": [],
      "authorship_tag": "ABX9TyNQ6wmSdMf3wVsC0KxZu1Dt"
    },
    "kernelspec": {
      "name": "python3",
      "display_name": "Python 3"
    },
    "language_info": {
      "name": "python"
    }
  },
  "cells": [
    {
      "cell_type": "code",
      "execution_count": 1,
      "metadata": {
        "id": "NA4u05dEVmK_"
      },
      "outputs": [],
      "source": [
        "!!pip install youtube_transcript_api\n",
        "!!pip install -q -U google-generativeai\n",
        "\n",
        "# Setup\n",
        "\n",
        "# Import the Python SDK\n",
        "import google.generativeai as genai\n",
        "# Used to securely store your API key\n",
        "from google.colab import userdata\n",
        "\n",
        "GOOGLE_API_KEY=userdata.get('GOOGLE_API_KEY')\n",
        "genai.configure(api_key=GOOGLE_API_KEY)\n",
        "\n"
      ]
    },
    {
      "cell_type": "code",
      "source": [
        "from youtube_transcript_api import YouTubeTranscriptApi\n",
        "import textwrap\n",
        "\n",
        "def extract_video_id(video_id_or_url):\n",
        "  \"\"\"\n",
        "  Extracts the YouTube video ID from a URL or directly returns it if already an ID.\n",
        "  \"\"\"\n",
        "  if len(video_id_or_url) > 11:  # Check if it's likely a URL based on length\n",
        "    return video_id_or_url[-11:]\n",
        "  else:\n",
        "    return video_id_or_url\n",
        "\n",
        "def get_transcript(video_url_or_id):\n",
        "  \"\"\"\n",
        "  Retrieves the transcript for a given YouTube video.\n",
        "  \"\"\"\n",
        "  try:\n",
        "    video_id = extract_video_id(video_url_or_id)\n",
        "    transcript = YouTubeTranscriptApi.get_transcript(video_id)\n",
        "    return transcript\n",
        "  except Exception as e:\n",
        "    print(f\"Error: {e}\")\n",
        "    return None"
      ],
      "metadata": {
        "id": "NyGkkrvXVqLi"
      },
      "execution_count": null,
      "outputs": []
    },
    {
      "cell_type": "code",
      "source": [
        "video_url = 'https://www.youtube.com/watch?v=phZfIA9fAUM' # YouTube video URL\n",
        "transcript = get_transcript(video_url)\n",
        "\n",
        "if transcript:\n",
        "    print(\"Transcript retrieved successfully:\")\n",
        "    print(transcript)\n",
        "else:\n",
        "    print(\"Failed to retrieve transcript.\")"
      ],
      "metadata": {
        "id": "tATqLS37Vwcj"
      },
      "execution_count": null,
      "outputs": []
    },
    {
      "cell_type": "code",
      "source": [
        "def format_transcript(transcript, max_line_width=80):\n",
        "  \"\"\"\n",
        "  Formats the transcript into a human-readable plain text format.\n",
        "  \"\"\"\n",
        "  formatted_transcript = \"\"\n",
        "  wrapper = textwrap.TextWrapper(width=max_line_width)\n",
        "  for entry in transcript:\n",
        "    wrapped_text = wrapper.fill(text=entry['text'])\n",
        "    formatted_transcript += wrapped_text + \"\\n\\n\"\n",
        "  return formatted_transcript\n",
        "\n",
        "if transcript:\n",
        "    formatted_transcript = format_transcript(transcript)\n",
        "    print(\"\\nFormatted Transcript:\")\n",
        "    print(formatted_transcript)"
      ],
      "metadata": {
        "collapsed": true,
        "id": "2Ez9BbesWp7J"
      },
      "execution_count": null,
      "outputs": []
    },
    {
      "cell_type": "code",
      "source": [
        "!!pip install litellm\n",
        "\n",
        "# Setup your key\n",
        "\n",
        "import os\n",
        "from google.colab import userdata\n",
        "api_key = userdata.get('OPENAI_API_KEY')\n",
        "os.environ['OPENAI_API_KEY'] = api_key"
      ],
      "metadata": {
        "id": "F-dm9tAtYSNt"
      },
      "execution_count": null,
      "outputs": []
    },
    {
      "cell_type": "code",
      "source": [
        "from litellm import completion\n",
        "from typing import List, Dict\n",
        "\n",
        "\n",
        "def generate_response(messages: List[Dict]) -> str:\n",
        "    \"\"\"Call LLM to get response\"\"\"\n",
        "    response = completion(\n",
        "        model=\"openai/gpt-4o\",\n",
        "        messages=messages,\n",
        "        max_tokens=1024\n",
        "    )\n",
        "    return response.choices[0].message.content\n",
        "\n",
        "\n",
        "messages = [\n",
        "    {\"role\": \"system\", \"content\": \"You are an expert in explaining things to a 10 year old kid\"},\n",
        "    {\"role\": \"user\", \"content\": \"Summarize the transcript in 5 sentences as if you are explaining it to a kid\"}\n",
        "]\n",
        "\n",
        "response = generate_response(messages)\n",
        "print(response)"
      ],
      "metadata": {
        "id": "bfDlx462Yiy4"
      },
      "execution_count": null,
      "outputs": []
    }
  ]
}