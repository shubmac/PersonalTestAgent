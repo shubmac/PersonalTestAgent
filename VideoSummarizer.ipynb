{
  "nbformat": 4,
  "nbformat_minor": 0,
  "metadata": {
    "colab": {
      "provenance": [],
      "authorship_tag": "ABX9TyN9+2TCkLnSA2Hx9AVwo3D1"
    },
    "kernelspec": {
      "name": "python3",
      "display_name": "Python 3"
    },
    "language_info": {
      "name": "python"
    }
  },
  "cells": [
    {
      "cell_type": "code",
      "execution_count": 78,
      "metadata": {
        "id": "NA4u05dEVmK_"
      },
      "outputs": [],
      "source": [
        "!!pip install --upgrade youtube_transcript_api\n",
        "!!pip install -q -U google-generativeai\n",
        "\n",
        "# Setup\n",
        "\n",
        "# Import the Python SDK\n",
        "import google.generativeai as genai\n",
        "# Used to securely store your API key\n",
        "from google.colab import userdata\n",
        "\n",
        "GOOGLE_API_KEY=userdata.get('GOOGLE_API_KEY')\n",
        "genai.configure(api_key=GOOGLE_API_KEY)\n",
        "\n"
      ]
    },
    {
      "cell_type": "code",
      "source": [
        "from youtube_transcript_api import YouTubeTranscriptApi\n",
        "import textwrap\n",
        "\n",
        "def extract_video_id(video_id_or_url)->str:\n",
        "  \"\"\"\n",
        "  Extracts the YouTube video ID from a URL or directly returns it if already an ID.\n",
        "  \"\"\"\n",
        "  if len(video_id_or_url) > 11:  # Check if it's likely a URL based on length\n",
        "    return video_id_or_url[-11:]\n",
        "  else:\n",
        "    return video_id_or_url\n",
        "\n",
        "def get_transcript(video_url_or_id):\n",
        "  \"\"\"\n",
        "  Retrieves the transcript for a given YouTube video.\n",
        "  \"\"\"\n",
        "  video_id=\"\"\n",
        "  transcript=\"\"\n",
        "  try:\n",
        "    video_id = extract_video_id(video_url_or_id)\n",
        "    transcript = YouTubeTranscriptApi.fetch(video_id,['en'])\n",
        "    print(transcript)\n",
        "    return transcript\n",
        "  except Exception as e:\n",
        "    print(f\"Error: {e}\")\n",
        "    return None"
      ],
      "metadata": {
        "id": "NyGkkrvXVqLi"
      },
      "execution_count": 79,
      "outputs": []
    },
    {
      "cell_type": "code",
      "source": [
        "video_url = 'https://www.youtube.com/watch?v=phZfIA9fAUM' # YouTube video URL that you want to summarize\n",
        "transcript = get_transcript(video_url)\n",
        "\n",
        "if transcript:\n",
        "    print(\"Transcript retrieved successfully:\")\n",
        "    print(transcript)\n",
        "else:\n",
        "    print(\"Failed to retrieve transcript.\")"
      ],
      "metadata": {
        "id": "tATqLS37Vwcj",
        "colab": {
          "base_uri": "https://localhost:8080/"
        },
        "outputId": "934d7152-613b-4a84-8222-2b7776879c3f"
      },
      "execution_count": 80,
      "outputs": [
        {
          "output_type": "stream",
          "name": "stdout",
          "text": [
            "Error: 'str' object has no attribute 'list'\n",
            "Failed to retrieve transcript.\n"
          ]
        }
      ]
    },
    {
      "cell_type": "code",
      "source": [
        "def format_transcript(transcript, max_line_width=80):\n",
        "  \"\"\"\n",
        "  Formats the transcript into a human-readable plain text format.\n",
        "  \"\"\"\n",
        "  formatted_transcript = \"\"\n",
        "  wrapper = textwrap.TextWrapper(width=max_line_width)\n",
        "  for entry in transcript:\n",
        "    wrapped_text = wrapper.fill(text=entry['text'])\n",
        "    formatted_transcript += wrapped_text + \"\\n\\n\"\n",
        "  return formatted_transcript\n",
        "\n",
        "if transcript:\n",
        "    formatted_transcript = format_transcript(transcript)\n",
        "    #print(\"\\nFormatted Transcript:\")\n",
        "    #print(formatted_transcript)"
      ],
      "metadata": {
        "collapsed": true,
        "id": "2Ez9BbesWp7J"
      },
      "execution_count": 81,
      "outputs": []
    },
    {
      "cell_type": "code",
      "source": [
        "from typing import List, Dict\n",
        "import google.generativeai as genai\n",
        "from typing import List, Dict\n",
        "import os\n",
        "\n",
        "def generate_response(messages: List[Dict]) -> str:\n",
        "    \"\"\"This funtion calls the Gemini model to get a response\"\"\"\n",
        "    model_name = \"gemini-2.5-flash\"  # Or any other model\"\n",
        "    model = genai.GenerativeModel(model_name=model_name)\n",
        "    #Now you are calling the model with the messages that have been passed to this function\n",
        "    response = model.generate_content(messages)\n",
        "    return response.text\n",
        "\n",
        "messages = [\n",
        "    {\"role\": \"system\", \"content\": \"You are an expert in explaining things to a 10 year old kid\"},\n",
        "    {\"role\": \"user\", \"content\": \"Summarize the transcript in 5 sentences as if you are explaining it to a kid\"},\n",
        "    {\"role\": \"user\", \"content\": formatted_transcript}\n",
        "]\n",
        "\n",
        "response = generate_response(messages)\n",
        "print(response)"
      ],
      "metadata": {
        "id": "bfDlx462Yiy4",
        "colab": {
          "base_uri": "https://localhost:8080/",
          "height": 211
        },
        "outputId": "39104c6c-f24f-492e-d947-434939f48648"
      },
      "execution_count": 82,
      "outputs": [
        {
          "output_type": "error",
          "ename": "NameError",
          "evalue": "name 'formatted_transcript' is not defined",
          "traceback": [
            "\u001b[0;31m---------------------------------------------------------------------------\u001b[0m",
            "\u001b[0;31mNameError\u001b[0m                                 Traceback (most recent call last)",
            "\u001b[0;32m/tmp/ipython-input-82-3512583915.py\u001b[0m in \u001b[0;36m<cell line: 0>\u001b[0;34m()\u001b[0m\n\u001b[1;32m     15\u001b[0m     \u001b[0;34m{\u001b[0m\u001b[0;34m\"role\"\u001b[0m\u001b[0;34m:\u001b[0m \u001b[0;34m\"system\"\u001b[0m\u001b[0;34m,\u001b[0m \u001b[0;34m\"content\"\u001b[0m\u001b[0;34m:\u001b[0m \u001b[0;34m\"You are an expert in explaining things to a 10 year old kid\"\u001b[0m\u001b[0;34m}\u001b[0m\u001b[0;34m,\u001b[0m\u001b[0;34m\u001b[0m\u001b[0;34m\u001b[0m\u001b[0m\n\u001b[1;32m     16\u001b[0m     \u001b[0;34m{\u001b[0m\u001b[0;34m\"role\"\u001b[0m\u001b[0;34m:\u001b[0m \u001b[0;34m\"user\"\u001b[0m\u001b[0;34m,\u001b[0m \u001b[0;34m\"content\"\u001b[0m\u001b[0;34m:\u001b[0m \u001b[0;34m\"Summarize the transcript in 5 sentences as if you are explaining it to a kid\"\u001b[0m\u001b[0;34m}\u001b[0m\u001b[0;34m,\u001b[0m\u001b[0;34m\u001b[0m\u001b[0;34m\u001b[0m\u001b[0m\n\u001b[0;32m---> 17\u001b[0;31m     \u001b[0;34m{\u001b[0m\u001b[0;34m\"role\"\u001b[0m\u001b[0;34m:\u001b[0m \u001b[0;34m\"user\"\u001b[0m\u001b[0;34m,\u001b[0m \u001b[0;34m\"content\"\u001b[0m\u001b[0;34m:\u001b[0m \u001b[0mformatted_transcript\u001b[0m\u001b[0;34m}\u001b[0m\u001b[0;34m\u001b[0m\u001b[0;34m\u001b[0m\u001b[0m\n\u001b[0m\u001b[1;32m     18\u001b[0m ]\n\u001b[1;32m     19\u001b[0m \u001b[0;34m\u001b[0m\u001b[0m\n",
            "\u001b[0;31mNameError\u001b[0m: name 'formatted_transcript' is not defined"
          ]
        }
      ]
    }
  ]
}