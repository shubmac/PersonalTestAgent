{
  "nbformat": 4,
  "nbformat_minor": 0,
  "metadata": {
    "colab": {
      "provenance": [],
      "authorship_tag": "ABX9TyPCHhDBvEYTRo1PGnv6N32a"
    },
    "kernelspec": {
      "name": "python3",
      "display_name": "Python 3"
    },
    "language_info": {
      "name": "python"
    }
  },
  "cells": [
    {
      "cell_type": "code",
      "execution_count": 149,
      "metadata": {
        "id": "NA4u05dEVmK_"
      },
      "outputs": [],
      "source": [
        "!!pip install --upgrade youtube-transcript-api==1.2.0\n",
        "!!pip install -q -U google-generativeai\n",
        "\n",
        "# Setup\n",
        "\n",
        "# Import the Python SDK\n",
        "import google.generativeai as genai\n",
        "# Used to securely store your API key\n",
        "from google.colab import userdata\n",
        "\n",
        "GOOGLE_API_KEY=userdata.get('GOOGLE_API_KEY')\n",
        "genai.configure(api_key=GOOGLE_API_KEY)\n",
        "\n"
      ]
    },
    {
      "cell_type": "code",
      "source": [
        "from youtube_transcript_api import YouTubeTranscriptApi\n",
        "import textwrap\n",
        "\n",
        "def extract_video_id(video_id_or_url)->str:\n",
        "  \"\"\"\n",
        "  Extracts the YouTube video ID from a URL or directly returns it if already an ID.\n",
        "  \"\"\"\n",
        "  if len(video_id_or_url) > 11:  # Check if it's likely a URL based on length\n",
        "    return video_id_or_url[-11:]\n",
        "  else:\n",
        "    return video_id_or_url\n",
        "\n",
        "def get_transcript(video_url_or_id):\n",
        "  \"\"\"\n",
        "  Retrieves the transcript for a given YouTube video.\n",
        "  \"\"\"\n",
        "  # Setup\n",
        "  ytt_api = YouTubeTranscriptApi()\n",
        "  video_id=\"\"\n",
        "  transcript=\"\"\n",
        "\n",
        "  try:\n",
        "    video_id = extract_video_id(video_url_or_id)\n",
        "    print(video_id)\n",
        "    # Fetch the data\n",
        "    fetched_transcript =ytt_api.fetch(video_id)\n",
        "    for snippet in fetched_transcript:\n",
        "      transcript= transcript+ snippet.text + \"\\n\"\n",
        "    print(transcript)\n",
        "    return transcript\n",
        "  except Exception as e:\n",
        "    print(f\"Error: {e}\")\n",
        "    return None"
      ],
      "metadata": {
        "id": "NyGkkrvXVqLi"
      },
      "execution_count": 150,
      "outputs": []
    },
    {
      "cell_type": "code",
      "source": [
        "video_url = 'https://www.youtube.com/watch?v=ad79nYk2keg' # YouTube video URL that you want to summarize\n",
        "transcript = get_transcript(video_url)\n",
        "\n",
        "if transcript:\n",
        "    print(\"Transcript retrieved successfully:\")\n",
        "    print(transcript)\n",
        "else:\n",
        "    print(\"Failed to retrieve transcript.\")"
      ],
      "metadata": {
        "id": "tATqLS37Vwcj"
      },
      "execution_count": null,
      "outputs": []
    },
    {
      "cell_type": "code",
      "source": [
        "from typing import List, Dict\n",
        "import google.generativeai as genai\n",
        "from typing import List, Dict\n",
        "import os\n",
        "\n",
        "def generate_response(messages: List[Dict]) -> str:\n",
        "    \"\"\"This funtion calls the Gemini model to get a response\"\"\"\n",
        "    model_name = \"gemini-2.5-flash\"  # Or any other model\"\n",
        "    model = genai.GenerativeModel(model_name=model_name)\n",
        "    #Now you are calling the model with the messages that have been passed to this function\n",
        "    response = model.generate_content(messages)\n",
        "    return response.text\n",
        "\n",
        "\n",
        "# The Gemini API expects the content under a 'parts' key and system messages under 'user' role.\n",
        "messages = [\n",
        "    {\"role\": \"user\", \"parts\": [\"You are an expert in explaining things to a 10 year old kid. Keeping the length of summary to less than 10 lines\"]},\n",
        "    {\"role\": \"user\", \"parts\": [transcript]}\n",
        "]\n",
        "\n",
        "response = generate_response(messages)\n",
        "print(response)"
      ],
      "metadata": {
        "id": "bfDlx462Yiy4",
        "colab": {
          "base_uri": "https://localhost:8080/",
          "height": 124
        },
        "outputId": "32104bf0-4758-47e7-b334-ba944e0c0b0c"
      },
      "execution_count": 155,
      "outputs": [
        {
          "output_type": "stream",
          "name": "stdout",
          "text": [
            "Imagine a super-smart robot or computer that can think and act a bit like a human to help us! That's Artificial Intelligence, or AI.\n",
            "\n",
            "It's like teaching a machine to organize your room perfectly, or having your smart speaker understand what you say. AI helps machines learn new things, figure out problems, and make decisions, just like you do.\n",
            "\n",
            "Some AI is really good at only one job, like playing a game super well. But the super-smart, human-like robots you see in movies aren't real yet! AI is used in your phones, cars, and even games to make them smarter and our lives easier.\n"
          ]
        }
      ]
    }
  ]
}