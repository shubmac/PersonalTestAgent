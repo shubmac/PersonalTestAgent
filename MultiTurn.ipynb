{
  "nbformat": 4,
  "nbformat_minor": 0,
  "metadata": {
    "colab": {
      "provenance": []
    },
    "kernelspec": {
      "name": "python3",
      "display_name": "Python 3"
    },
    "language_info": {
      "name": "python"
    }
  },
  "cells": [
    {
      "cell_type": "code",
      "source": [
        "!pip install -q -U google-generativeai\n",
        "\n",
        "# Setup\n",
        "\n",
        "# Import the Python SDK\n",
        "import google.generativeai as genai\n",
        "# Used to securely store your API key\n",
        "from google.colab import userdata\n",
        "\n",
        "GOOGLE_API_KEY=userdata.get('GOOGLE_API_KEY')\n",
        "genai.configure(api_key=GOOGLE_API_KEY)\n",
        "\n"
      ],
      "metadata": {
        "id": "KEYrzG2vB8Ip",
        "collapsed": true
      },
      "execution_count": 9,
      "outputs": []
    },
    {
      "cell_type": "code",
      "source": [
        "import google.generativeai as genai\n",
        "from typing import List, Dict\n",
        "import os\n",
        "\n",
        "def generate_response(messages: List[Dict]) -> str:\n",
        "    \"\"\"This funtion calls the Gemini model to get a response\"\"\"\n",
        "    model_name = \"gemini-2.5-flash\"  # Or any other model\"\n",
        "    model = genai.GenerativeModel(model_name=model_name)\n",
        "    #Now you are calling the model with the messages that have been passed to this function\n",
        "    response = model.generate_content(messages)\n",
        "    return response.text\n",
        "\n",
        "\n",
        "# Define the chat history as a list of dictionaries\n",
        "messages = [\n",
        "    {\"role\": \"user\", \"parts\": [{\"text\": \"Hello, how are you today?\"}]},\n",
        "    {\"role\": \"model\", \"parts\": [{\"text\": \"I'm doing great! How can I assist you?\"}]},\n",
        "    {\"role\": \"user\", \"parts\": [{\"text\": \"Tell me a joke.\"}]},\n",
        "]\n",
        "\n",
        "followOnMessage = []\n",
        "i=0\n",
        "PrevResponse=\"\"\n",
        "while i<2:\n",
        "  response = generate_response(messages)\n",
        "  print(response)\n",
        "  PrevResponse=PrevResponse+ response + \"\\n\"\n",
        "  messages.append({\"role\": \"model\", \"parts\": [{\"text\": response}]})\n",
        "  messages.append({\"role\": \"user\", \"parts\": [{\"text\": \"Tell me another joke.\"}]})\n",
        "  followOnMessage.append({\"role\": \"model\", \"parts\": [{\"text\":\"you are an expert at telling unique jokes and not repeating the same joke\"}]})\n",
        "  followOnMessage.append({\"role\": \"assistant\", \"parts\": [{\"text\": PrevResponse}]})\n",
        "  followOnMessage.append({\"role\": \"user\", \"parts\": [{\"text\": \"Take a look at your previous response. Find another joke of the same type.\"}]})\n",
        "  i+=1\n"
      ],
      "metadata": {
        "id": "BNMhH7W9hYpn",
        "colab": {
          "base_uri": "https://localhost:8080/",
          "height": 191
        },
        "outputId": "56fd6f44-41a7-488a-8b6d-473084991a80"
      },
      "execution_count": 15,
      "outputs": [
        {
          "output_type": "stream",
          "name": "stdout",
          "text": [
            "Okay, here's one for you:\n",
            "\n",
            "Why don't scientists trust atoms?\n",
            "\n",
            "Because they make up everything!\n",
            "Okay, here's another one:\n",
            "\n",
            "Why did the scarecrow win an award?\n",
            "\n",
            "Because he was outstanding in his field!\n"
          ]
        }
      ]
    }
  ]
}